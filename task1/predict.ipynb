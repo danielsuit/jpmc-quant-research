{
 "cells": [
  {
   "cell_type": "code",
   "execution_count": null,
   "id": "3d830258",
   "metadata": {},
   "outputs": [],
   "source": [
    "import tensorflow \n",
    "import numpy as np\n",
    "import os\n",
    "import pandas as pd"
   ]
  },
  {
   "cell_type": "code",
   "execution_count": null,
   "id": "7b07984b",
   "metadata": {},
   "outputs": [],
   "source": [
    "csv_file = 'Nat_Gas.csv'"
   ]
  },
  {
   "cell_type": "code",
   "execution_count": null,
   "id": "92cf4dee",
   "metadata": {},
   "outputs": [],
   "source": [
    "df = pd.read_csv(csv_file)\n",
    "df"
   ]
  },
  {
   "cell_type": "code",
   "execution_count": null,
   "id": "da9dc07c",
   "metadata": {},
   "outputs": [],
   "source": [
    "df.index = pd.to_datetime(df['Dates'], format='%m/%d/%y')"
   ]
  },
  {
   "cell_type": "code",
   "execution_count": null,
   "id": "990bbd0b",
   "metadata": {},
   "outputs": [],
   "source": [
    "df"
   ]
  },
  {
   "cell_type": "code",
   "execution_count": null,
   "id": "20cd31c2",
   "metadata": {},
   "outputs": [],
   "source": [
    "temp = df['Prices']\n",
    "temp.plot()"
   ]
  },
  {
   "cell_type": "code",
   "execution_count": null,
   "id": "f8c005cf",
   "metadata": {},
   "outputs": [],
   "source": [
    "def df_to_xy(df, window_size=12):\n",
    "    dfp = df.to_numpy()\n",
    "    X = []\n",
    "    y = []\n",
    "    for i in range(len(dfp)-window_size):\n",
    "        row = [[a] for a in dfp[i:i+window_size]]\n",
    "        X.append(row)\n",
    "        label = dfp[i+window_size]\n",
    "        y.append(label)\n",
    "    return np.array(X), np.array(y)\n"
   ]
  },
  {
   "cell_type": "code",
   "execution_count": null,
   "id": "a14a0dc6",
   "metadata": {},
   "outputs": [],
   "source": [
    "windows = 12\n",
    "X, y = df_to_xy(temp, windows)\n",
    "X.shape, y.shape"
   ]
  },
  {
   "cell_type": "code",
   "execution_count": null,
   "id": "10a034a1",
   "metadata": {},
   "outputs": [],
   "source": [
    "X_train, y_train = X[:40], y[:40]\n",
    "X_val, y_val = X[40:45], y[40:45]\n",
    "X_test, y_test = X[45:], y[45:]\n",
    "X_train.shape, y_train.shape, X_val.shape, y_val.shape, X_test.shape, y_test.shape"
   ]
  },
  {
   "cell_type": "code",
   "execution_count": null,
   "id": "bb157f56",
   "metadata": {},
   "outputs": [],
   "source": [
    "from tensorflow.keras.models import Sequential\n",
    "from tensorflow.keras.layers import *\n",
    "from tensorflow.keras.callbacks import ModelCheckpoint\n",
    "from tensorflow.keras.losses import MeanSquaredError\n",
    "from tensorflow.keras.metrics import RootMeanSquaredError\n",
    "from tensorflow.keras.optimizers import Adam\n",
    "\n",
    "model = Sequential()\n",
    "model.add(InputLayer((12,1)))\n",
    "model.add(LSTM(20))\n",
    "model.add(Dense(10, \"relu\"))\n",
    "model.add(Dense(1, \"linear\"))\n",
    "model.summary()\n"
   ]
  },
  {
   "cell_type": "code",
   "execution_count": null,
   "id": "9db638b6",
   "metadata": {},
   "outputs": [],
   "source": [
    "os.makedirs(\"model\", exist_ok=True)\n",
    "cp = ModelCheckpoint(\"model/best_model.keras\", save_best_only=True)\n",
    "model.compile(loss=MeanSquaredError(), optimizer=Adam(learning_rate=.001), metrics=[RootMeanSquaredError()])"
   ]
  },
  {
   "cell_type": "code",
   "execution_count": null,
   "id": "8bf71965",
   "metadata": {},
   "outputs": [],
   "source": [
    "model.fit(X_train, y_train, epochs=1100, validation_data=(X_val, y_val), callbacks=[cp])"
   ]
  },
  {
   "cell_type": "code",
   "execution_count": null,
   "id": "a66d2ddc",
   "metadata": {},
   "outputs": [],
   "source": [
    "from tensorflow.keras.models import load_model\n",
    "model = load_model(\"model/best_model.keras\")"
   ]
  },
  {
   "cell_type": "code",
   "execution_count": null,
   "id": "4457e784",
   "metadata": {},
   "outputs": [],
   "source": [
    "train_predictions = model.predict(X_train).flatten()\n",
    "train_results = pd.DataFrame(data={\"Train Predictions\": train_predictions, \"Actuals\": y_train})\n",
    "train_results.plot()"
   ]
  }
 ],
 "metadata": {
  "kernelspec": {
   "display_name": "base",
   "language": "python",
   "name": "python3"
  },
  "language_info": {
   "codemirror_mode": {
    "name": "ipython",
    "version": 3
   },
   "file_extension": ".py",
   "mimetype": "text/x-python",
   "name": "python",
   "nbconvert_exporter": "python",
   "pygments_lexer": "ipython3",
   "version": "3.12.4"
  }
 },
 "nbformat": 4,
 "nbformat_minor": 5
}
